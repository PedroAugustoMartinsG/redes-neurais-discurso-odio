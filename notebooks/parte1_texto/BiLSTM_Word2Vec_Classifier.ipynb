{
  "cells": [
    {
      "cell_type": "markdown",
      "id": "1e06bb0c",
      "metadata": {
        "id": "1e06bb0c"
      },
      "source": [
        "# **Trabalho de Redes Neurais: Detecção de Discurso de Ódio utilizando BiLSTM e Word2Vec**\n",
        "\n",
        "**Objetivo:** Este notebook implementa e avalia o modelo de deep learning BiLSTM junto do vetorizador Word2Vec para a tarefa de detecção de discurso de ódio em tweets.\n",
        "\n",
        "**Dataset:** Utiliza-se o MMHS150K, um conjunto de dados com 150.000 tweets contendo texto e imagem. Para esta primeira parte do trabalho, **focaremos exclusivamente na modalidade de texto.**\n",
        "\n",
        "**Estratégia:**\n",
        "Após uma análise inicial, observou-se um forte desbalanceamento entre as classes e, com isso, decidiu-se tratar como um problema binário ao invés de multiclasse, que, mesmo assim, ainda mantinha um alto desbalanceamento. Por esse motivo vamos implementar e comparar duas estratégias distintas para tratar esse desbalanceamento em um problema de classificação binária (\"Hate\" vs. \"Não Hate\"):\n",
        "1. **Método 1:** Undersampling. Balancear o conjunto de treino cortando amostras da classe majoritária.\n",
        "2. **Método 2:** Perda Ponderada (Weighted Loss). Usar o conjunto de treino completo, mas aplicando pesos na função de perda para dar mais importância à classe minoritária.\n",
        "\n",
        "O objetivo final é determinar qual das duas abordagens produz um modelo mais eficaz e robusto para a detecção de discurso de ódio."
      ]
    },
    {
      "cell_type": "markdown",
      "id": "bd7c4d1b",
      "metadata": {
        "id": "bd7c4d1b"
      },
      "source": [
        "# **Configuração do Ambiente**"
      ]
    },
    {
      "cell_type": "markdown",
      "id": "ce9d00df",
      "metadata": {
        "id": "ce9d00df"
      },
      "source": [
        "## **Instalações**"
      ]
    },
    {
      "cell_type": "code",
      "source": [
        "!pip install gensim scikit-learn pandas matplotlib torch keras nltk"
      ],
      "metadata": {
        "colab": {
          "base_uri": "https://localhost:8080/",
          "height": 1000
        },
        "id": "WEXwolEEfAXC",
        "outputId": "95049018-412d-42ee-8d86-7d68d8b37995"
      },
      "id": "WEXwolEEfAXC",
      "execution_count": 2,
      "outputs": [
        {
          "output_type": "stream",
          "name": "stdout",
          "text": [
            "Collecting gensim\n",
            "  Downloading gensim-4.3.3-cp311-cp311-manylinux_2_17_x86_64.manylinux2014_x86_64.whl.metadata (8.1 kB)\n",
            "Requirement already satisfied: scikit-learn in /usr/local/lib/python3.11/dist-packages (1.6.1)\n",
            "Requirement already satisfied: pandas in /usr/local/lib/python3.11/dist-packages (2.2.2)\n",
            "Requirement already satisfied: matplotlib in /usr/local/lib/python3.11/dist-packages (3.10.0)\n",
            "Requirement already satisfied: torch in /usr/local/lib/python3.11/dist-packages (2.6.0+cu124)\n",
            "Requirement already satisfied: keras in /usr/local/lib/python3.11/dist-packages (3.8.0)\n",
            "Requirement already satisfied: nltk in /usr/local/lib/python3.11/dist-packages (3.9.1)\n",
            "Collecting numpy<2.0,>=1.18.5 (from gensim)\n",
            "  Downloading numpy-1.26.4-cp311-cp311-manylinux_2_17_x86_64.manylinux2014_x86_64.whl.metadata (61 kB)\n",
            "\u001b[2K     \u001b[90m━━━━━━━━━━━━━━━━━━━━━━━━━━━━━━━━━━━━━━━━\u001b[0m \u001b[32m61.0/61.0 kB\u001b[0m \u001b[31m4.0 MB/s\u001b[0m eta \u001b[36m0:00:00\u001b[0m\n",
            "\u001b[?25hCollecting scipy<1.14.0,>=1.7.0 (from gensim)\n",
            "  Downloading scipy-1.13.1-cp311-cp311-manylinux_2_17_x86_64.manylinux2014_x86_64.whl.metadata (60 kB)\n",
            "\u001b[2K     \u001b[90m━━━━━━━━━━━━━━━━━━━━━━━━━━━━━━━━━━━━━━━━\u001b[0m \u001b[32m60.6/60.6 kB\u001b[0m \u001b[31m4.2 MB/s\u001b[0m eta \u001b[36m0:00:00\u001b[0m\n",
            "\u001b[?25hRequirement already satisfied: smart-open>=1.8.1 in /usr/local/lib/python3.11/dist-packages (from gensim) (7.1.0)\n",
            "Requirement already satisfied: joblib>=1.2.0 in /usr/local/lib/python3.11/dist-packages (from scikit-learn) (1.5.1)\n",
            "Requirement already satisfied: threadpoolctl>=3.1.0 in /usr/local/lib/python3.11/dist-packages (from scikit-learn) (3.6.0)\n",
            "Requirement already satisfied: python-dateutil>=2.8.2 in /usr/local/lib/python3.11/dist-packages (from pandas) (2.9.0.post0)\n",
            "Requirement already satisfied: pytz>=2020.1 in /usr/local/lib/python3.11/dist-packages (from pandas) (2025.2)\n",
            "Requirement already satisfied: tzdata>=2022.7 in /usr/local/lib/python3.11/dist-packages (from pandas) (2025.2)\n",
            "Requirement already satisfied: contourpy>=1.0.1 in /usr/local/lib/python3.11/dist-packages (from matplotlib) (1.3.2)\n",
            "Requirement already satisfied: cycler>=0.10 in /usr/local/lib/python3.11/dist-packages (from matplotlib) (0.12.1)\n",
            "Requirement already satisfied: fonttools>=4.22.0 in /usr/local/lib/python3.11/dist-packages (from matplotlib) (4.58.4)\n",
            "Requirement already satisfied: kiwisolver>=1.3.1 in /usr/local/lib/python3.11/dist-packages (from matplotlib) (1.4.8)\n",
            "Requirement already satisfied: packaging>=20.0 in /usr/local/lib/python3.11/dist-packages (from matplotlib) (24.2)\n",
            "Requirement already satisfied: pillow>=8 in /usr/local/lib/python3.11/dist-packages (from matplotlib) (11.2.1)\n",
            "Requirement already satisfied: pyparsing>=2.3.1 in /usr/local/lib/python3.11/dist-packages (from matplotlib) (3.2.3)\n",
            "Requirement already satisfied: filelock in /usr/local/lib/python3.11/dist-packages (from torch) (3.18.0)\n",
            "Requirement already satisfied: typing-extensions>=4.10.0 in /usr/local/lib/python3.11/dist-packages (from torch) (4.14.0)\n",
            "Requirement already satisfied: networkx in /usr/local/lib/python3.11/dist-packages (from torch) (3.5)\n",
            "Requirement already satisfied: jinja2 in /usr/local/lib/python3.11/dist-packages (from torch) (3.1.6)\n",
            "Requirement already satisfied: fsspec in /usr/local/lib/python3.11/dist-packages (from torch) (2025.3.2)\n",
            "Collecting nvidia-cuda-nvrtc-cu12==12.4.127 (from torch)\n",
            "  Downloading nvidia_cuda_nvrtc_cu12-12.4.127-py3-none-manylinux2014_x86_64.whl.metadata (1.5 kB)\n",
            "Collecting nvidia-cuda-runtime-cu12==12.4.127 (from torch)\n",
            "  Downloading nvidia_cuda_runtime_cu12-12.4.127-py3-none-manylinux2014_x86_64.whl.metadata (1.5 kB)\n",
            "Collecting nvidia-cuda-cupti-cu12==12.4.127 (from torch)\n",
            "  Downloading nvidia_cuda_cupti_cu12-12.4.127-py3-none-manylinux2014_x86_64.whl.metadata (1.6 kB)\n",
            "Collecting nvidia-cudnn-cu12==9.1.0.70 (from torch)\n",
            "  Downloading nvidia_cudnn_cu12-9.1.0.70-py3-none-manylinux2014_x86_64.whl.metadata (1.6 kB)\n",
            "Collecting nvidia-cublas-cu12==12.4.5.8 (from torch)\n",
            "  Downloading nvidia_cublas_cu12-12.4.5.8-py3-none-manylinux2014_x86_64.whl.metadata (1.5 kB)\n",
            "Collecting nvidia-cufft-cu12==11.2.1.3 (from torch)\n",
            "  Downloading nvidia_cufft_cu12-11.2.1.3-py3-none-manylinux2014_x86_64.whl.metadata (1.5 kB)\n",
            "Collecting nvidia-curand-cu12==10.3.5.147 (from torch)\n",
            "  Downloading nvidia_curand_cu12-10.3.5.147-py3-none-manylinux2014_x86_64.whl.metadata (1.5 kB)\n",
            "Collecting nvidia-cusolver-cu12==11.6.1.9 (from torch)\n",
            "  Downloading nvidia_cusolver_cu12-11.6.1.9-py3-none-manylinux2014_x86_64.whl.metadata (1.6 kB)\n",
            "Collecting nvidia-cusparse-cu12==12.3.1.170 (from torch)\n",
            "  Downloading nvidia_cusparse_cu12-12.3.1.170-py3-none-manylinux2014_x86_64.whl.metadata (1.6 kB)\n",
            "Requirement already satisfied: nvidia-cusparselt-cu12==0.6.2 in /usr/local/lib/python3.11/dist-packages (from torch) (0.6.2)\n",
            "Requirement already satisfied: nvidia-nccl-cu12==2.21.5 in /usr/local/lib/python3.11/dist-packages (from torch) (2.21.5)\n",
            "Requirement already satisfied: nvidia-nvtx-cu12==12.4.127 in /usr/local/lib/python3.11/dist-packages (from torch) (12.4.127)\n",
            "Collecting nvidia-nvjitlink-cu12==12.4.127 (from torch)\n",
            "  Downloading nvidia_nvjitlink_cu12-12.4.127-py3-none-manylinux2014_x86_64.whl.metadata (1.5 kB)\n",
            "Requirement already satisfied: triton==3.2.0 in /usr/local/lib/python3.11/dist-packages (from torch) (3.2.0)\n",
            "Requirement already satisfied: sympy==1.13.1 in /usr/local/lib/python3.11/dist-packages (from torch) (1.13.1)\n",
            "Requirement already satisfied: mpmath<1.4,>=1.1.0 in /usr/local/lib/python3.11/dist-packages (from sympy==1.13.1->torch) (1.3.0)\n",
            "Requirement already satisfied: absl-py in /usr/local/lib/python3.11/dist-packages (from keras) (1.4.0)\n",
            "Requirement already satisfied: rich in /usr/local/lib/python3.11/dist-packages (from keras) (13.9.4)\n",
            "Requirement already satisfied: namex in /usr/local/lib/python3.11/dist-packages (from keras) (0.1.0)\n",
            "Requirement already satisfied: h5py in /usr/local/lib/python3.11/dist-packages (from keras) (3.14.0)\n",
            "Requirement already satisfied: optree in /usr/local/lib/python3.11/dist-packages (from keras) (0.16.0)\n",
            "Requirement already satisfied: ml-dtypes in /usr/local/lib/python3.11/dist-packages (from keras) (0.4.1)\n",
            "Requirement already satisfied: click in /usr/local/lib/python3.11/dist-packages (from nltk) (8.2.1)\n",
            "Requirement already satisfied: regex>=2021.8.3 in /usr/local/lib/python3.11/dist-packages (from nltk) (2024.11.6)\n",
            "Requirement already satisfied: tqdm in /usr/local/lib/python3.11/dist-packages (from nltk) (4.67.1)\n",
            "Requirement already satisfied: six>=1.5 in /usr/local/lib/python3.11/dist-packages (from python-dateutil>=2.8.2->pandas) (1.17.0)\n",
            "Requirement already satisfied: wrapt in /usr/local/lib/python3.11/dist-packages (from smart-open>=1.8.1->gensim) (1.17.2)\n",
            "Requirement already satisfied: MarkupSafe>=2.0 in /usr/local/lib/python3.11/dist-packages (from jinja2->torch) (3.0.2)\n",
            "Requirement already satisfied: markdown-it-py>=2.2.0 in /usr/local/lib/python3.11/dist-packages (from rich->keras) (3.0.0)\n",
            "Requirement already satisfied: pygments<3.0.0,>=2.13.0 in /usr/local/lib/python3.11/dist-packages (from rich->keras) (2.19.1)\n",
            "Requirement already satisfied: mdurl~=0.1 in /usr/local/lib/python3.11/dist-packages (from markdown-it-py>=2.2.0->rich->keras) (0.1.2)\n",
            "Downloading gensim-4.3.3-cp311-cp311-manylinux_2_17_x86_64.manylinux2014_x86_64.whl (26.7 MB)\n",
            "\u001b[2K   \u001b[90m━━━━━━━━━━━━━━━━━━━━━━━━━━━━━━━━━━━━━━━━\u001b[0m \u001b[32m26.7/26.7 MB\u001b[0m \u001b[31m31.5 MB/s\u001b[0m eta \u001b[36m0:00:00\u001b[0m\n",
            "\u001b[?25hDownloading nvidia_cublas_cu12-12.4.5.8-py3-none-manylinux2014_x86_64.whl (363.4 MB)\n",
            "\u001b[2K   \u001b[90m━━━━━━━━━━━━━━━━━━━━━━━━━━━━━━━━━━━━━━━━\u001b[0m \u001b[32m363.4/363.4 MB\u001b[0m \u001b[31m4.3 MB/s\u001b[0m eta \u001b[36m0:00:00\u001b[0m\n",
            "\u001b[?25hDownloading nvidia_cuda_cupti_cu12-12.4.127-py3-none-manylinux2014_x86_64.whl (13.8 MB)\n",
            "\u001b[2K   \u001b[90m━━━━━━━━━━━━━━━━━━━━━━━━━━━━━━━━━━━━━━━━\u001b[0m \u001b[32m13.8/13.8 MB\u001b[0m \u001b[31m122.6 MB/s\u001b[0m eta \u001b[36m0:00:00\u001b[0m\n",
            "\u001b[?25hDownloading nvidia_cuda_nvrtc_cu12-12.4.127-py3-none-manylinux2014_x86_64.whl (24.6 MB)\n",
            "\u001b[2K   \u001b[90m━━━━━━━━━━━━━━━━━━━━━━━━━━━━━━━━━━━━━━━━\u001b[0m \u001b[32m24.6/24.6 MB\u001b[0m \u001b[31m91.7 MB/s\u001b[0m eta \u001b[36m0:00:00\u001b[0m\n",
            "\u001b[?25hDownloading nvidia_cuda_runtime_cu12-12.4.127-py3-none-manylinux2014_x86_64.whl (883 kB)\n",
            "\u001b[2K   \u001b[90m━━━━━━━━━━━━━━━━━━━━━━━━━━━━━━━━━━━━━━━━\u001b[0m \u001b[32m883.7/883.7 kB\u001b[0m \u001b[31m59.8 MB/s\u001b[0m eta \u001b[36m0:00:00\u001b[0m\n",
            "\u001b[?25hDownloading nvidia_cudnn_cu12-9.1.0.70-py3-none-manylinux2014_x86_64.whl (664.8 MB)\n",
            "\u001b[2K   \u001b[90m━━━━━━━━━━━━━━━━━━━━━━━━━━━━━━━━━━━━━━━━\u001b[0m \u001b[32m664.8/664.8 MB\u001b[0m \u001b[31m1.3 MB/s\u001b[0m eta \u001b[36m0:00:00\u001b[0m\n",
            "\u001b[?25hDownloading nvidia_cufft_cu12-11.2.1.3-py3-none-manylinux2014_x86_64.whl (211.5 MB)\n",
            "\u001b[2K   \u001b[90m━━━━━━━━━━━━━━━━━━━━━━━━━━━━━━━━━━━━━━━━\u001b[0m \u001b[32m211.5/211.5 MB\u001b[0m \u001b[31m5.3 MB/s\u001b[0m eta \u001b[36m0:00:00\u001b[0m\n",
            "\u001b[?25hDownloading nvidia_curand_cu12-10.3.5.147-py3-none-manylinux2014_x86_64.whl (56.3 MB)\n",
            "\u001b[2K   \u001b[90m━━━━━━━━━━━━━━━━━━━━━━━━━━━━━━━━━━━━━━━━\u001b[0m \u001b[32m56.3/56.3 MB\u001b[0m \u001b[31m11.6 MB/s\u001b[0m eta \u001b[36m0:00:00\u001b[0m\n",
            "\u001b[?25hDownloading nvidia_cusolver_cu12-11.6.1.9-py3-none-manylinux2014_x86_64.whl (127.9 MB)\n",
            "\u001b[2K   \u001b[90m━━━━━━━━━━━━━━━━━━━━━━━━━━━━━━━━━━━━━━━━\u001b[0m \u001b[32m127.9/127.9 MB\u001b[0m \u001b[31m7.4 MB/s\u001b[0m eta \u001b[36m0:00:00\u001b[0m\n",
            "\u001b[?25hDownloading nvidia_cusparse_cu12-12.3.1.170-py3-none-manylinux2014_x86_64.whl (207.5 MB)\n",
            "\u001b[2K   \u001b[90m━━━━━━━━━━━━━━━━━━━━━━━━━━━━━━━━━━━━━━━━\u001b[0m \u001b[32m207.5/207.5 MB\u001b[0m \u001b[31m5.7 MB/s\u001b[0m eta \u001b[36m0:00:00\u001b[0m\n",
            "\u001b[?25hDownloading nvidia_nvjitlink_cu12-12.4.127-py3-none-manylinux2014_x86_64.whl (21.1 MB)\n",
            "\u001b[2K   \u001b[90m━━━━━━━━━━━━━━━━━━━━━━━━━━━━━━━━━━━━━━━━\u001b[0m \u001b[32m21.1/21.1 MB\u001b[0m \u001b[31m102.3 MB/s\u001b[0m eta \u001b[36m0:00:00\u001b[0m\n",
            "\u001b[?25hDownloading numpy-1.26.4-cp311-cp311-manylinux_2_17_x86_64.manylinux2014_x86_64.whl (18.3 MB)\n",
            "\u001b[2K   \u001b[90m━━━━━━━━━━━━━━━━━━━━━━━━━━━━━━━━━━━━━━━━\u001b[0m \u001b[32m18.3/18.3 MB\u001b[0m \u001b[31m108.2 MB/s\u001b[0m eta \u001b[36m0:00:00\u001b[0m\n",
            "\u001b[?25hDownloading scipy-1.13.1-cp311-cp311-manylinux_2_17_x86_64.manylinux2014_x86_64.whl (38.6 MB)\n",
            "\u001b[2K   \u001b[90m━━━━━━━━━━━━━━━━━━━━━━━━━━━━━━━━━━━━━━━━\u001b[0m \u001b[32m38.6/38.6 MB\u001b[0m \u001b[31m17.6 MB/s\u001b[0m eta \u001b[36m0:00:00\u001b[0m\n",
            "\u001b[?25hInstalling collected packages: nvidia-nvjitlink-cu12, nvidia-curand-cu12, nvidia-cufft-cu12, nvidia-cuda-runtime-cu12, nvidia-cuda-nvrtc-cu12, nvidia-cuda-cupti-cu12, nvidia-cublas-cu12, numpy, scipy, nvidia-cusparse-cu12, nvidia-cudnn-cu12, nvidia-cusolver-cu12, gensim\n",
            "  Attempting uninstall: nvidia-nvjitlink-cu12\n",
            "    Found existing installation: nvidia-nvjitlink-cu12 12.5.82\n",
            "    Uninstalling nvidia-nvjitlink-cu12-12.5.82:\n",
            "      Successfully uninstalled nvidia-nvjitlink-cu12-12.5.82\n",
            "  Attempting uninstall: nvidia-curand-cu12\n",
            "    Found existing installation: nvidia-curand-cu12 10.3.6.82\n",
            "    Uninstalling nvidia-curand-cu12-10.3.6.82:\n",
            "      Successfully uninstalled nvidia-curand-cu12-10.3.6.82\n",
            "  Attempting uninstall: nvidia-cufft-cu12\n",
            "    Found existing installation: nvidia-cufft-cu12 11.2.3.61\n",
            "    Uninstalling nvidia-cufft-cu12-11.2.3.61:\n",
            "      Successfully uninstalled nvidia-cufft-cu12-11.2.3.61\n",
            "  Attempting uninstall: nvidia-cuda-runtime-cu12\n",
            "    Found existing installation: nvidia-cuda-runtime-cu12 12.5.82\n",
            "    Uninstalling nvidia-cuda-runtime-cu12-12.5.82:\n",
            "      Successfully uninstalled nvidia-cuda-runtime-cu12-12.5.82\n",
            "  Attempting uninstall: nvidia-cuda-nvrtc-cu12\n",
            "    Found existing installation: nvidia-cuda-nvrtc-cu12 12.5.82\n",
            "    Uninstalling nvidia-cuda-nvrtc-cu12-12.5.82:\n",
            "      Successfully uninstalled nvidia-cuda-nvrtc-cu12-12.5.82\n",
            "  Attempting uninstall: nvidia-cuda-cupti-cu12\n",
            "    Found existing installation: nvidia-cuda-cupti-cu12 12.5.82\n",
            "    Uninstalling nvidia-cuda-cupti-cu12-12.5.82:\n",
            "      Successfully uninstalled nvidia-cuda-cupti-cu12-12.5.82\n",
            "  Attempting uninstall: nvidia-cublas-cu12\n",
            "    Found existing installation: nvidia-cublas-cu12 12.5.3.2\n",
            "    Uninstalling nvidia-cublas-cu12-12.5.3.2:\n",
            "      Successfully uninstalled nvidia-cublas-cu12-12.5.3.2\n",
            "  Attempting uninstall: numpy\n",
            "    Found existing installation: numpy 2.0.2\n",
            "    Uninstalling numpy-2.0.2:\n",
            "      Successfully uninstalled numpy-2.0.2\n",
            "  Attempting uninstall: scipy\n",
            "    Found existing installation: scipy 1.15.3\n",
            "    Uninstalling scipy-1.15.3:\n",
            "      Successfully uninstalled scipy-1.15.3\n",
            "  Attempting uninstall: nvidia-cusparse-cu12\n",
            "    Found existing installation: nvidia-cusparse-cu12 12.5.1.3\n",
            "    Uninstalling nvidia-cusparse-cu12-12.5.1.3:\n",
            "      Successfully uninstalled nvidia-cusparse-cu12-12.5.1.3\n",
            "  Attempting uninstall: nvidia-cudnn-cu12\n",
            "    Found existing installation: nvidia-cudnn-cu12 9.3.0.75\n",
            "    Uninstalling nvidia-cudnn-cu12-9.3.0.75:\n",
            "      Successfully uninstalled nvidia-cudnn-cu12-9.3.0.75\n",
            "  Attempting uninstall: nvidia-cusolver-cu12\n",
            "    Found existing installation: nvidia-cusolver-cu12 11.6.3.83\n",
            "    Uninstalling nvidia-cusolver-cu12-11.6.3.83:\n",
            "      Successfully uninstalled nvidia-cusolver-cu12-11.6.3.83\n",
            "\u001b[31mERROR: pip's dependency resolver does not currently take into account all the packages that are installed. This behaviour is the source of the following dependency conflicts.\n",
            "tsfresh 0.21.0 requires scipy>=1.14.0; python_version >= \"3.10\", but you have scipy 1.13.1 which is incompatible.\n",
            "thinc 8.3.6 requires numpy<3.0.0,>=2.0.0, but you have numpy 1.26.4 which is incompatible.\u001b[0m\u001b[31m\n",
            "\u001b[0mSuccessfully installed gensim-4.3.3 numpy-1.26.4 nvidia-cublas-cu12-12.4.5.8 nvidia-cuda-cupti-cu12-12.4.127 nvidia-cuda-nvrtc-cu12-12.4.127 nvidia-cuda-runtime-cu12-12.4.127 nvidia-cudnn-cu12-9.1.0.70 nvidia-cufft-cu12-11.2.1.3 nvidia-curand-cu12-10.3.5.147 nvidia-cusolver-cu12-11.6.1.9 nvidia-cusparse-cu12-12.3.1.170 nvidia-nvjitlink-cu12-12.4.127 scipy-1.13.1\n"
          ]
        },
        {
          "output_type": "display_data",
          "data": {
            "application/vnd.colab-display-data+json": {
              "pip_warning": {
                "packages": [
                  "numpy"
                ]
              },
              "id": "f6902f2e12df4538926b81a4cdc5474f"
            }
          },
          "metadata": {}
        }
      ]
    },
    {
      "cell_type": "markdown",
      "id": "e6098593",
      "metadata": {
        "id": "e6098593"
      },
      "source": [
        "## **Imports**"
      ]
    },
    {
      "cell_type": "code",
      "execution_count": 18,
      "id": "38d009bc",
      "metadata": {
        "colab": {
          "base_uri": "https://localhost:8080/"
        },
        "id": "38d009bc",
        "outputId": "bb2ad0b4-0dca-477b-874e-27b4f02b3b2a"
      },
      "outputs": [
        {
          "output_type": "stream",
          "name": "stderr",
          "text": [
            "[nltk_data] Downloading package punkt to /root/nltk_data...\n",
            "[nltk_data]   Package punkt is already up-to-date!\n",
            "[nltk_data] Downloading package punkt_tab to /root/nltk_data...\n",
            "[nltk_data]   Package punkt_tab is already up-to-date!\n",
            "[nltk_data] Downloading package stopwords to /root/nltk_data...\n",
            "[nltk_data]   Package stopwords is already up-to-date!\n"
          ]
        },
        {
          "output_type": "execute_result",
          "data": {
            "text/plain": [
              "True"
            ]
          },
          "metadata": {},
          "execution_count": 18
        }
      ],
      "source": [
        "import os\n",
        "import json\n",
        "from collections import Counter\n",
        "import nltk\n",
        "import numpy as np\n",
        "import pandas as pd\n",
        "import re\n",
        "import random\n",
        "import matplotlib.pyplot as plt\n",
        "from tqdm import tqdm\n",
        "import torch\n",
        "import torch.nn as nn\n",
        "import torch.optim as optim\n",
        "from torch.utils.data import Dataset, DataLoader\n",
        "from gensim.models import Word2Vec\n",
        "from sklearn.metrics import confusion_matrix, ConfusionMatrixDisplay, accuracy_score, f1_score, precision_score, recall_score\n",
        "from keras.preprocessing.sequence import pad_sequences\n",
        "from nltk.tokenize import word_tokenize\n",
        "from nltk.corpus import stopwords\n",
        "nltk.download('punkt')\n",
        "nltk.download('punkt_tab')\n",
        "nltk.download('stopwords')\n"
      ]
    },
    {
      "cell_type": "markdown",
      "id": "c711f650",
      "metadata": {
        "id": "c711f650"
      },
      "source": [
        "# **Carregamento e Análise Exploratória dos Dados (EDA)**\n",
        "\n",
        "O primeiro passo da análise é carregar os dados e entender sua estrutura. Realizamos uma análise exploratória na distribuição original de 6 classes para visualizar o desbalanceamento inicial, que motiva a simplificação do problema e a necessidade de técnicas de tratamento."
      ]
    },
    {
      "cell_type": "markdown",
      "id": "7d3558b4",
      "metadata": {
        "id": "7d3558b4"
      },
      "source": [
        "## **Carregamento dos Dados**"
      ]
    },
    {
      "cell_type": "code",
      "execution_count": 19,
      "id": "zU0v4S8cW0IF",
      "metadata": {
        "colab": {
          "base_uri": "https://localhost:8080/"
        },
        "id": "zU0v4S8cW0IF",
        "outputId": "cd58b1a7-6b27-4bd1-d3c9-026e21b18327"
      },
      "outputs": [
        {
          "output_type": "stream",
          "name": "stdout",
          "text": [
            "Path to dataset files: /kaggle/input/multimodal-hate-speech\n"
          ]
        }
      ],
      "source": [
        "import kagglehub\n",
        "\n",
        "path = kagglehub.dataset_download(\"victorcallejasf/multimodal-hate-speech\")\n",
        "\n",
        "print(\"Path to dataset files:\", path)"
      ]
    },
    {
      "cell_type": "code",
      "execution_count": 20,
      "id": "Az7eTfffXCQr",
      "metadata": {
        "colab": {
          "base_uri": "https://localhost:8080/"
        },
        "id": "Az7eTfffXCQr",
        "outputId": "2462e633-0f67-461d-a093-923ea32a876f"
      },
      "outputs": [
        {
          "output_type": "stream",
          "name": "stdout",
          "text": [
            "['splits', 'img_resized', 'img_txt', 'hatespeech_keywords.txt', 'MMHS150K_readme.txt', 'MMHS150K_GT.json']\n"
          ]
        }
      ],
      "source": [
        "print(os.listdir(path))"
      ]
    },
    {
      "cell_type": "code",
      "execution_count": 21,
      "id": "uz_5umc2XHB-",
      "metadata": {
        "colab": {
          "base_uri": "https://localhost:8080/"
        },
        "id": "uz_5umc2XHB-",
        "outputId": "38a3dc20-f125-4058-8b82-a75867c15ca0"
      },
      "outputs": [
        {
          "output_type": "stream",
          "name": "stdout",
          "text": [
            "Treino: 134823 tweets\n",
            "Validação: 5000 tweets\n",
            "Teste: 10000 tweets\n"
          ]
        }
      ],
      "source": [
        "json_gt_path = os.path.join(path, \"MMHS150K_GT.json\")\n",
        "\n",
        "splits = {\n",
        "    \"Treino\": os.path.join(path, \"splits\", \"train_ids.txt\"),\n",
        "    \"Validação\": os.path.join(path, \"splits\", \"val_ids.txt\"),\n",
        "    \"Teste\": os.path.join(path, \"splits\", \"test_ids.txt\"),\n",
        "}\n",
        "\n",
        "\n",
        "with open(json_gt_path, 'r') as f:\n",
        "    data = json.load(f)\n",
        "\n",
        "def contar_tweets(split_path):\n",
        "    with open(split_path, 'r') as f:\n",
        "        ids = [line.strip() for line in f.readlines()]\n",
        "    return len([id_ for id_ in ids if id_ in data])\n",
        "\n",
        "for nome_split, caminho_split in splits.items():\n",
        "    total_tweets = contar_tweets(caminho_split)\n",
        "    print(f\"{nome_split}: {total_tweets} tweets\")"
      ]
    },
    {
      "cell_type": "markdown",
      "id": "11640033",
      "metadata": {
        "id": "11640033"
      },
      "source": [
        "## **Análise da Distribuição Multiclasse Original**"
      ]
    },
    {
      "cell_type": "code",
      "execution_count": 22,
      "id": "xchi7hWGYM9s",
      "metadata": {
        "colab": {
          "base_uri": "https://localhost:8080/",
          "height": 1000
        },
        "id": "xchi7hWGYM9s",
        "outputId": "10ec4d9b-1216-4d0b-dff4-6487821a8aba"
      },
      "outputs": [
        {
          "output_type": "stream",
          "name": "stdout",
          "text": [
            "Distribuição Original das Classes no Conjunto Treino:\n",
            "       Classe  Quantidade\n",
            "1  Não é hate      108462\n",
            "0     Racista       11333\n",
            "4       Outro        6528\n",
            "2     Sexista        4298\n",
            "3  Homofóbico        3922\n",
            "5    Religião         280\n"
          ]
        },
        {
          "output_type": "display_data",
          "data": {
            "text/plain": [
              "<Figure size 800x500 with 1 Axes>"
            ],
            "image/png": "[encoded data removed]"
          },
          "metadata": {}
        },
        {
          "output_type": "stream",
          "name": "stdout",
          "text": [
            "Distribuição Original das Classes no Conjunto Validação:\n",
            "       Classe  Quantidade\n",
            "4  Não é hate        2755\n",
            "2     Racista         966\n",
            "3       Outro         562\n",
            "0     Sexista         366\n",
            "1  Homofóbico         324\n",
            "5    Religião          27\n"
          ]
        },
        {
          "output_type": "display_data",
          "data": {
            "text/plain": [
              "<Figure size 800x500 with 1 Axes>"
            ],
            "image/png": "[encoded data removed]"
          },
          "metadata": {}
        },
        {
          "output_type": "stream",
          "name": "stdout",
          "text": [
            "Distribuição Original das Classes no Conjunto Teste:\n",
            "       Classe  Quantidade\n",
            "3  Não é hate        5573\n",
            "0     Racista        1884\n",
            "1       Outro        1106\n",
            "4     Sexista         711\n",
            "2  Homofóbico         680\n",
            "5    Religião          46\n"
          ]
        },
        {
          "output_type": "display_data",
          "data": {
            "text/plain": [
              "<Figure size 800x500 with 1 Axes>"
            ],
            "image/png": "[encoded data removed]"
          },
          "metadata": {}
        }
      ],
      "source": [
        "def carregar_dados_singlelabel(split_path, path_name):\n",
        "    with open(split_path, 'r') as f:\n",
        "        ids = [line.strip() for line in f.readlines()]\n",
        "    texts = []\n",
        "    labels = []\n",
        "    for id_ in ids:\n",
        "        if id_ in data:\n",
        "            texts.append(data[id_]['tweet_text'])\n",
        "            label_list = data[id_]['labels']  # ex: [0, 1, 1]\n",
        "            most_common = Counter(label_list).most_common(1)[0][0]\n",
        "            #if(most_common > 1): most_common = 1\n",
        "            labels.append(most_common)  # pega a label majoritária\n",
        "\n",
        "    # Mapeamento para nomes legíveis\n",
        "    labels_map_multiclass = {\n",
        "        0: \"Não é hate\", 1: \"Racista\", 2: \"Sexista\",\n",
        "        3: \"Homofóbico\", 4: \"Religião\", 5: \"Outro\"\n",
        "    }\n",
        "\n",
        "    # Conta e plota a distribuição\n",
        "    original_label_counts = Counter(labels)\n",
        "    df_dist_multi = pd.DataFrame({\n",
        "        'Classe': [labels_map_multiclass[label] for label, count in original_label_counts.items()],\n",
        "        'Quantidade': [count for label, count in original_label_counts.items()]\n",
        "    }).sort_values(by='Quantidade', ascending=False)\n",
        "\n",
        "    print(f\"Distribuição Original das Classes no Conjunto {path_name}:\")\n",
        "    print(df_dist_multi)\n",
        "\n",
        "    # Plotando o gráfico\n",
        "    plt.figure(figsize=(8, 5))\n",
        "    plt.bar(df_dist_multi['Classe'], df_dist_multi['Quantidade'], color='cornflowerblue')\n",
        "    plt.title(f'Distribuição Original de Classes no Conjunto de {path_name}')\n",
        "    plt.ylabel('Número de Tweets')\n",
        "    plt.xticks(rotation=45, ha='right')\n",
        "    plt.tight_layout()\n",
        "    plt.show()\n",
        "    return texts, labels\n",
        "\n",
        "train_texts, train_labels = carregar_dados_singlelabel(splits['Treino'], \"Treino\")\n",
        "val_texts, val_labels = carregar_dados_singlelabel(splits['Validação'], \"Validação\")\n",
        "test_texts, test_labels = carregar_dados_singlelabel(splits['Teste'], \"Teste\")"
      ]
    },
    {
      "cell_type": "markdown",
      "id": "bd67e1c2",
      "metadata": {
        "id": "bd67e1c2"
      },
      "source": [
        "# **Binarização**\n",
        "\n",
        "Devido ao desbalanceamento entre as classes \"Hate\" e \"Não Hate\" no dataset, optou-se por tratar o problema como uma classificação binária, focando apenas em distinguir os tweets como pertencentes a uma das duas categorias. Essa binarização simplifica a tarefa e permite uma avaliação mais clara do modelo."
      ]
    },
    {
      "cell_type": "code",
      "execution_count": 23,
      "id": "e572eb81",
      "metadata": {
        "colab": {
          "base_uri": "https://localhost:8080/"
        },
        "id": "e572eb81",
        "outputId": "8070e797-5b77-4ea8-f2d5-cb9561573eec"
      },
      "outputs": [
        {
          "output_type": "stream",
          "name": "stdout",
          "text": [
            "Distribuição Treino: Não Hate - 108462 / Hate - 26361\n",
            "Distribuição Teste: Não Hate - 5573 / Hate - 4427\n",
            "Distribuição Validação: Não Hate - 2755 / Hate - 2245\n"
          ]
        }
      ],
      "source": [
        "def binarizacao(labels):\n",
        "    for i, label in enumerate(labels):\n",
        "        if label >= 1:\n",
        "            labels[i] = 1\n",
        "    return labels\n",
        "\n",
        "train_labels = binarizacao(train_labels)\n",
        "test_labels = binarizacao(test_labels)\n",
        "val_labels = binarizacao(val_labels)\n",
        "\n",
        "print(f\"Distribuição Treino: Não Hate - {train_labels.count(0)} / Hate - {train_labels.count(1)}\")\n",
        "print(f\"Distribuição Teste: Não Hate - {test_labels.count(0)} / Hate - {test_labels.count(1)}\")\n",
        "print(f\"Distribuição Validação: Não Hate - {val_labels.count(0)} / Hate - {val_labels.count(1)}\")"
      ]
    },
    {
      "cell_type": "markdown",
      "id": "1a8aafb6",
      "metadata": {
        "id": "1a8aafb6"
      },
      "source": [
        "# **Pré-processamento**\n",
        "\n",
        "Antes de alimentar os dados no modelo, é necessário realizar algumas etapas de pré-processamento no texto dos tweets. Isso inclui a remoção de caracteres especiais, links, e a tokenização, que consiste em dividir os textos em palavras individuais. Também é realizada a remoção de stopwords (palavras comuns que não contribuem para o significado, como \"e\", \"a\", \"o\"), além da conversão dos textos para minúsculas, para garantir consistência e evitar duplicações. Essas etapas são fundamentais para limpar os dados e preparar o modelo para aprender padrões relevantes."
      ]
    },
    {
      "cell_type": "code",
      "execution_count": 24,
      "id": "_IpTyjZIywEB",
      "metadata": {
        "id": "_IpTyjZIywEB"
      },
      "outputs": [],
      "source": [
        "# Carregar stopwords uma vez\n",
        "stop_words = set(stopwords.words('english'))\n",
        "\n",
        "def clean_text(text):\n",
        "    text = text.lower()\n",
        "\n",
        "    # Substituir URLs e menções\n",
        "    text = re.sub(r\"http\\S+|www\\S+|https\\S+\", \"<url>\", text)\n",
        "    text = re.sub(r\"@\\w+\", \"<user>\", text)\n",
        "\n",
        "    # Substituir hashtags mantendo a palavra\n",
        "    text = re.sub(r\"#(\\w+)\", r\"\\1\", text)\n",
        "\n",
        "    # Substituir emojis/emoticons por tags opcionais (pode usar emoji lib se quiser mais)\n",
        "    text = re.sub(r\"[^\\w\\s]\", \"\", text)  # remove pontuação\n",
        "\n",
        "    # Reduzir repetições de letras (ex: coooool → cool)\n",
        "    text = re.sub(r'(.)\\1{2,}', r'\\1\\1', text)\n",
        "\n",
        "    return text\n",
        "\n",
        "def normalize_obfuscated_words(tokens):\n",
        "    \"\"\"Substitui variações típicas ofensivas por palavras padrão (ex: f@gg0t → faggot)\"\"\"\n",
        "    replacements = {\n",
        "        r'b[\\W_]*[i1!|][\\W_]*t[\\W_]*c[\\W_]*h': 'bitch',\n",
        "        r'f[\\W_]*[a4@][\\W_]*g[\\W_]*g[\\W_]*[o0][\\W_]*t': 'faggot',\n",
        "        r'n[\\W_]*[i1!][\\W_]*g[\\W_]*g[\\W_]*[e3][\\W_]*[r4]': 'nigger',\n",
        "        r'c[\\W_]*[u*#][\\W_]*n[\\W_]*t': 'cunt',\n",
        "        r'w[\\W_]*h[\\W_]*[o0][\\W_]*r[\\W_]*e': 'whore',\n",
        "        r's[\\W_]*l[\\W_]*[u5][\\W_]*t': 'slut',\n",
        "        r'a[\\W_]*s[\\W_]*s[\\W_]*h[\\W_]*[o0][\\W_]*l[\\W_]*e': 'asshole',\n",
        "        r't[\\W_]*r[\\W_]*a[\\W_]*n[\\W_]*n[\\W_]*[y¥]': 'tranny',\n",
        "        r'r[\\W_]*[e3][\\W_]*[t+][\\W_]*a[\\W_]*[r4][\\W_]*d': 'retard'\n",
        "    }\n",
        "    normalized = []\n",
        "    for token in tokens:\n",
        "        replaced = token\n",
        "        for pattern, standard in replacements.items():\n",
        "            if re.fullmatch(pattern, token):\n",
        "                replaced = standard\n",
        "                break\n",
        "        normalized.append(replaced)\n",
        "    return normalized\n",
        "\n",
        "def preprocess(text, remove_stopwords=False):\n",
        "    text = clean_text(text)\n",
        "    tokens = word_tokenize(text)\n",
        "    tokens = normalize_obfuscated_words(tokens)\n",
        "    if remove_stopwords:\n",
        "        tokens = [t for t in tokens if t not in stop_words]\n",
        "    return tokens"
      ]
    },
    {
      "cell_type": "code",
      "execution_count": 25,
      "id": "fd1d0b53",
      "metadata": {
        "id": "fd1d0b53"
      },
      "outputs": [],
      "source": [
        "\n",
        "tokenized_train_texts = [preprocess(text) for text in train_texts]\n",
        "tokenized_val_texts = [preprocess(text) for text in val_texts]\n",
        "tokenized_test_texts = [preprocess(text) for text in test_texts]"
      ]
    },
    {
      "cell_type": "markdown",
      "id": "654555ad",
      "metadata": {
        "id": "654555ad"
      },
      "source": [
        "# **Treinamento do Modelo Word2Vec**\n",
        "\n",
        "O modelo Word2Vec é utilizado para converter palavras em vetores numéricos densos, representando semelhanças semânticas entre elas. Para treinar o Word2Vec, os textos dos tweets, após o pré-processamento, são usados para criar um vocabulário. O modelo é treinado com esses dados para gerar embeddings de palavras, onde palavras semelhantes são representadas por vetores próximos no espaço vetorial. O Word2Vec captura as relações semânticas entre as palavras e é essencial para transformar o texto em uma representação numérica que o modelo de rede neural pode entender."
      ]
    },
    {
      "cell_type": "code",
      "execution_count": 26,
      "id": "2ca8af66",
      "metadata": {
        "id": "2ca8af66"
      },
      "outputs": [],
      "source": [
        "\n",
        "word2vec_model = Word2Vec(sentences=tokenized_train_texts, vector_size=100, window=5, min_count=1, workers=4)\n"
      ]
    },
    {
      "cell_type": "code",
      "execution_count": 27,
      "id": "ded301d8",
      "metadata": {
        "id": "ded301d8"
      },
      "outputs": [],
      "source": [
        "\n",
        "vocab = {word: idx + 1 for idx, word in enumerate(word2vec_model.wv.index_to_key)}\n",
        "vocab_size = len(vocab) + 1\n",
        "embedding_dim = word2vec_model.vector_size\n",
        "\n",
        "embedding_matrix = np.zeros((vocab_size, embedding_dim))\n",
        "for word, idx in vocab.items():\n",
        "    embedding_matrix[idx] = word2vec_model.wv[word]\n"
      ]
    },
    {
      "cell_type": "markdown",
      "id": "fbb4aa67",
      "metadata": {
        "id": "fbb4aa67"
      },
      "source": [
        "# **Transformação dos Dados**\n",
        "\n",
        "Após o treinamento do Word2Vec, os dados precisam ser transformados em um formato adequado para o modelo BiLSTM. Isso envolve converter as palavras dos tweets em vetores utilizando os embeddings gerados pelo Word2Vec. Cada tweet é representado por uma sequência de vetores, onde cada vetor corresponde a uma palavra do tweet. Além disso, os tweets podem ter tamanhos diferentes, então, é necessário padronizar o tamanho das sequências para que todas as entradas tenham o mesmo comprimento. Isso é feito através de padding, garantindo que as sequências mais curtas sejam preenchidas com valores nulos."
      ]
    },
    {
      "cell_type": "code",
      "execution_count": 28,
      "id": "407179ef",
      "metadata": {
        "id": "407179ef"
      },
      "outputs": [],
      "source": [
        "MAX_LEN = 50  # ou 100, dependendo do comprimento médio dos seus tweets\n",
        "\n",
        "def tokens_to_indices(tokens_list, vocab):\n",
        "    return [[vocab.get(token, 0) for token in tokens] for tokens in tokens_list]\n",
        "\n",
        "train_sequences = tokens_to_indices(tokenized_train_texts, vocab)\n",
        "val_sequences = tokens_to_indices(tokenized_val_texts, vocab)\n",
        "test_sequences = tokens_to_indices(tokenized_test_texts, vocab)\n",
        "\n",
        "train_padded = pad_sequences(train_sequences, maxlen=MAX_LEN, padding='post', truncating='post')\n",
        "val_padded = pad_sequences(val_sequences, maxlen=MAX_LEN, padding='post', truncating='post')\n",
        "test_padded = pad_sequences(test_sequences, maxlen=MAX_LEN, padding='post', truncating='post')"
      ]
    },
    {
      "cell_type": "markdown",
      "id": "db337a03",
      "metadata": {
        "id": "db337a03"
      },
      "source": [
        "# **Definição das Classes Necessárias ao Treinamento e Testes**"
      ]
    },
    {
      "cell_type": "code",
      "execution_count": 29,
      "id": "b292cf4b",
      "metadata": {
        "id": "b292cf4b"
      },
      "outputs": [],
      "source": [
        "\n",
        "class TextDataset(Dataset):\n",
        "    def __init__(self, texts, labels):\n",
        "        self.texts = texts\n",
        "        self.labels = labels\n",
        "\n",
        "    def __len__(self):\n",
        "        return len(self.texts)\n",
        "\n",
        "    def __getitem__(self, idx):\n",
        "        return torch.tensor(self.texts[idx]), torch.tensor(self.labels[idx])\n"
      ]
    },
    {
      "cell_type": "code",
      "execution_count": 30,
      "id": "e9669098",
      "metadata": {
        "id": "e9669098"
      },
      "outputs": [],
      "source": [
        "\n",
        "class BiLSTMClassifier(nn.Module):\n",
        "    def __init__(self, embedding_matrix, hidden_dim, output_dim, dropout=0.5):\n",
        "        super(BiLSTMClassifier, self).__init__()\n",
        "        num_embeddings, embedding_dim = embedding_matrix.shape\n",
        "        self.embedding = nn.Embedding.from_pretrained(torch.FloatTensor(embedding_matrix), freeze=False)\n",
        "        self.lstm = nn.LSTM(embedding_dim, hidden_dim, bidirectional=True, batch_first=True)\n",
        "        self.dropout = nn.Dropout(dropout)\n",
        "        self.fc = nn.Linear(hidden_dim * 2, output_dim)\n",
        "\n",
        "    def forward(self, x):\n",
        "        embedded = self.embedding(x)\n",
        "        lstm_out, _ = self.lstm(embedded)\n",
        "        pooled = torch.mean(lstm_out, dim=1)\n",
        "        out = self.dropout(pooled)\n",
        "        return self.fc(out)\n"
      ]
    },
    {
      "cell_type": "markdown",
      "id": "2c31cf21",
      "metadata": {
        "id": "2c31cf21"
      },
      "source": [
        "# **Criando Data Loaders e Tratamento por Undersampling**\n",
        "\n",
        "O DataLoader é responsável por carregar os dados de forma eficiente durante o treinamento, garantindo que as amostras sejam fornecidas ao modelo em mini-lotes (batches). Isso facilita o treinamento, permitindo que o modelo seja alimentado com pequenos conjuntos de dados em cada iteração, melhorando a performance computacional.\n",
        "\n",
        "No caso do desbalanceamento das classes, o undersampling é uma técnica utilizada para equilibrar a quantidade de exemplos entre as duas classes. Esse método reduz o número de amostras da classe majoritária (\"Não Hate\") para que haja uma distribuição mais equilibrada entre as classes. Com isso, o modelo evita ser tendencioso para a classe mais representada e aprende de maneira mais eficaz a identificar características do discurso de ódio."
      ]
    },
    {
      "cell_type": "code",
      "execution_count": 31,
      "id": "6ad52479",
      "metadata": {
        "id": "6ad52479"
      },
      "outputs": [],
      "source": [
        "train_dataset = TextDataset(train_padded, train_labels)\n",
        "val_dataset = TextDataset(val_padded, val_labels)\n",
        "test_dataset = TextDataset(test_padded, test_labels)\n",
        "\n",
        "train_loader = DataLoader(train_dataset, batch_size= 2, shuffle=True)\n",
        "val_loader = DataLoader(val_dataset)\n",
        "test_loader = DataLoader(test_dataset)\n",
        "\n",
        "# Undersampling Training\n",
        "\n",
        "def balance_dataset(texts, labels):\n",
        "    combined = list(zip(texts, labels))\n",
        "\n",
        "    # Separate by class\n",
        "    class_0 = [item for item in combined if item[1] == 0]\n",
        "    class_1 = [item for item in combined if item[1] == 1]\n",
        "\n",
        "    # Downsample the majority class\n",
        "    min_len = min(len(class_0), len(class_1))\n",
        "    class_0 = random.sample(class_0, min_len)\n",
        "    class_1 = random.sample(class_1, min_len)\n",
        "\n",
        "    # Combine and shuffle\n",
        "    balanced = class_0 + class_1\n",
        "    random.shuffle(balanced)\n",
        "\n",
        "    balanced_texts, balanced_labels = zip(*balanced)\n",
        "    return list(balanced_texts), list(balanced_labels)\n",
        "\n",
        "train_bal_padded, train_bal_labels = balance_dataset(train_padded, train_labels)\n",
        "\n",
        "train_balanced_dataset = TextDataset(train_bal_padded, train_bal_labels)\n",
        "train_balanced_loader = DataLoader(train_balanced_dataset, shuffle=True)"
      ]
    },
    {
      "cell_type": "markdown",
      "id": "57141b12",
      "metadata": {
        "id": "57141b12"
      },
      "source": [
        "# **Treinamento do Modelo BiLSTM com Undersampling**\n",
        "\n",
        "No treinamento do modelo com undersampling, a classe majoritária é reduzida para balancear a distribuição entre as classes \"Hate\" e \"Não Hate\". Essa abordagem é utilizada para evitar que o modelo aprenda a favorecer a classe majoritária, o que poderia resultar em um desempenho ruim para a classe minoritária. Durante o treinamento, a função de perda e os parâmetros do modelo são ajustados com base nos dados balanceados, garantindo que o modelo seja treinado de maneira justa e que aprenda as características das duas classes de forma equilibrada. A técnica de undersampling permite uma avaliação mais precisa da performance do modelo, focando em um conjunto de dados mais representativo para ambas as classes."
      ]
    },
    {
      "cell_type": "code",
      "execution_count": 32,
      "id": "aQqwmkkMd2SN",
      "metadata": {
        "colab": {
          "base_uri": "https://localhost:8080/"
        },
        "id": "aQqwmkkMd2SN",
        "outputId": "c56c77e4-a206-4231-f675-e6d942d80801"
      },
      "outputs": [
        {
          "output_type": "stream",
          "name": "stdout",
          "text": [
            "True\n"
          ]
        }
      ],
      "source": [
        "print(torch.cuda.is_available())"
      ]
    },
    {
      "cell_type": "code",
      "execution_count": null,
      "id": "5fe9de98",
      "metadata": {
        "id": "5fe9de98",
        "outputId": "490795e4-2d76-432a-e733-3f3abcccbe53"
      },
      "outputs": [
        {
          "name": "stderr",
          "output_type": "stream",
          "text": [
            "                                                                             \r"
          ]
        },
        {
          "name": "stdout",
          "output_type": "stream",
          "text": [
            "Epoch 1, Train Loss: 0.6229\n",
            "Epoch 1, Val Loss: 0.6138\n",
            "Best model saved.\n"
          ]
        },
        {
          "name": "stderr",
          "output_type": "stream",
          "text": [
            "                                                                              \r"
          ]
        },
        {
          "name": "stdout",
          "output_type": "stream",
          "text": [
            "Epoch 2, Train Loss: 0.5129\n",
            "Epoch 2, Val Loss: 0.6949\n"
          ]
        },
        {
          "name": "stderr",
          "output_type": "stream",
          "text": [
            "                                                                              \r"
          ]
        },
        {
          "name": "stdout",
          "output_type": "stream",
          "text": [
            "Epoch 3, Train Loss: 0.4461\n",
            "Epoch 3, Val Loss: 0.7846\n"
          ]
        },
        {
          "name": "stderr",
          "output_type": "stream",
          "text": [
            "                                                                              \r"
          ]
        },
        {
          "name": "stdout",
          "output_type": "stream",
          "text": [
            "Epoch 4, Train Loss: 0.4143\n",
            "Epoch 4, Val Loss: 0.8241\n",
            "Early stopping at epoch 4\n"
          ]
        }
      ],
      "source": [
        "device = torch.device(\"cuda\" if torch.cuda.is_available() else \"cpu\")\n",
        "model = BiLSTMClassifier(embedding_matrix, hidden_dim=128, output_dim=2).to(device)\n",
        "\n",
        "criterion = nn.CrossEntropyLoss()\n",
        "optimizer = optim.Adam(model.parameters(), lr=1e-3)\n",
        "\n",
        "best_val_loss = float('inf')\n",
        "patience = 3\n",
        "trigger_times = 0\n",
        "\n",
        "for epoch in range(20):\n",
        "    model.train()\n",
        "    running_loss = 0\n",
        "    loop = tqdm(train_balanced_loader, desc=f\"Epoch {epoch+1}\", leave=False)\n",
        "\n",
        "    for inputs, targets in loop:\n",
        "        inputs, targets = inputs.to(device), targets.to(device)\n",
        "        optimizer.zero_grad()\n",
        "        outputs = model(inputs)\n",
        "        loss = criterion(outputs, targets)\n",
        "        loss.backward()\n",
        "        optimizer.step()\n",
        "        running_loss += loss.item()\n",
        "        loop.set_postfix(loss=loss.item())\n",
        "\n",
        "    train_loss = running_loss / len(train_balanced_loader)\n",
        "    print(f\"Epoch {epoch+1}, Train Loss: {train_loss:.4f}\")\n",
        "\n",
        "    # Evaluate\n",
        "    model.eval()\n",
        "    val_loss = 0\n",
        "    with torch.no_grad():\n",
        "        for val_inputs_batch, val_targets_batch in val_loader:\n",
        "            val_inputs_batch, val_targets_batch = val_inputs_batch.to(device), val_targets_batch.to(device)\n",
        "            val_outputs = model(val_inputs_batch)\n",
        "            val_loss += criterion(val_outputs, val_targets_batch).item()\n",
        "\n",
        "    val_loss /= len(val_loader)\n",
        "    print(f\"Epoch {epoch+1}, Val Loss: {val_loss:.4f}\")\n",
        "\n",
        "    if val_loss < best_val_loss:\n",
        "        best_val_loss = val_loss\n",
        "        trigger_times = 0\n",
        "        torch.save(model.state_dict(), f'b_model.pth')\n",
        "        print(\"Best model saved.\")\n",
        "    else:\n",
        "        trigger_times += 1\n",
        "        if trigger_times >= patience:\n",
        "            print(f\"Early stopping at epoch {epoch+1}\")\n",
        "            break"
      ]
    },
    {
      "cell_type": "markdown",
      "id": "c69f8bea",
      "metadata": {
        "id": "c69f8bea"
      },
      "source": [
        "# **Teste e Matriz de Confusão**\n",
        "\n",
        "Após o treinamento, o modelo é avaliado utilizando um conjunto de dados de teste, que não foi visto durante o treinamento. Isso permite verificar como o modelo generaliza para novos dados e medir a sua capacidade de classificar corretamente os tweets em \"Hate\" e \"Não Hate\". A avaliação é feita com base em métricas de desempenho, como precisão, recall, F1-score e acurácia, que ajudam a entender a qualidade das previsões do modelo em relação à classe verdadeira de cada tweet.\n",
        "\n",
        "Também é gerada uma matriz de confusão, uma ferramenta importante para visualizar o desempenho do modelo, mostrando a quantidade de acertos e erros em suas previsões. Ela é uma tabela que compara as classes preditas pelo modelo com as classes reais. A matriz de confusão gera quatro valores principais:\n",
        "\n",
        "    True Positives (TP): Casos onde o modelo previu corretamente a classe \"Hate\".\n",
        "\n",
        "    True Negatives (TN): Casos onde o modelo previu corretamente a classe \"Não Hate\".\n",
        "\n",
        "    False Positives (FP): Casos onde o modelo previu erroneamente a classe \"Hate\" para tweets que eram \"Não Hate\".\n",
        "\n",
        "    False Negatives (FN): Casos onde o modelo previu erroneamente a classe \"Não Hate\" para tweets que eram \"Hate\"."
      ]
    },
    {
      "cell_type": "code",
      "execution_count": null,
      "id": "d42bd99f",
      "metadata": {
        "id": "d42bd99f",
        "outputId": "9e454f01-ad9a-45b0-cefd-ceb08b3ba4aa"
      },
      "outputs": [
        {
          "name": "stderr",
          "output_type": "stream",
          "text": [
            "                                                                  \r"
          ]
        },
        {
          "data": {
            "image/png": "[encoded data removed]",
            "text/plain": [
              "<Figure size 640x480 with 2 Axes>"
            ]
          },
          "metadata": {},
          "output_type": "display_data"
        },
        {
          "name": "stdout",
          "output_type": "stream",
          "text": [
            "\n",
            "📊 Binary Classification Metrics:\n",
            "Accuracy: 0.6303\n",
            "Precision: 0.5741\n",
            "Recall: 0.6390\n",
            "F1-Score: 0.6048\n"
          ]
        }
      ],
      "source": [
        "# Mapeamento das classes\n",
        "class_mapping = {0: \"Não Hate\", 1: \"Hate\"}\n",
        "\n",
        "all_targets = []\n",
        "all_predictions = []\n",
        "\n",
        "model.to(device)\n",
        "model.eval()\n",
        "\n",
        "with torch.no_grad():\n",
        "    loop = tqdm(test_loader, desc=\"Evaluating\", leave=False)\n",
        "    for inputs, targets in loop:\n",
        "        inputs, targets = inputs.to(device), targets.to(device)\n",
        "        outputs = model(inputs)\n",
        "        _, predicted = torch.max(outputs, 1)\n",
        "\n",
        "        all_targets.extend(targets.cpu().numpy())\n",
        "        all_predictions.extend(predicted.cpu().numpy())\n",
        "\n",
        "# Substituindo 0 por \"Não Hate\" e 1 por \"Hate\"\n",
        "all_targets_mapped = [class_mapping[target] for target in all_targets]\n",
        "all_predictions_mapped = [class_mapping[pred] for pred in all_predictions]\n",
        "\n",
        "# Matriz de Confusão\n",
        "cm = confusion_matrix(all_targets_mapped, all_predictions_mapped, labels=[\"Não Hate\", \"Hate\"])\n",
        "disp = ConfusionMatrixDisplay(confusion_matrix=cm, display_labels=[\"Não Hate\", \"Hate\"])\n",
        "disp.plot(cmap=plt.cm.Blues)\n",
        "plt.title(\"Matriz de Confusão\")\n",
        "plt.show()\n",
        "\n",
        "# Calculate Accuracy\n",
        "accuracy = accuracy_score(all_targets_mapped, all_predictions_mapped)\n",
        "\n",
        "# Calculate Precision, Recall, and F1-score using the binary average\n",
        "precision = precision_score(all_targets_mapped, all_predictions_mapped, average='binary', pos_label='Hate')\n",
        "recall = recall_score(all_targets_mapped, all_predictions_mapped, average='binary', pos_label='Hate')\n",
        "f1 = f1_score(all_targets_mapped, all_predictions_mapped, average='binary', pos_label='Hate')\n",
        "\n",
        "# Display the results\n",
        "print(\"\\n📊 Binary Classification Metrics:\")\n",
        "print(f\"Accuracy: {accuracy:.4f}\")\n",
        "print(f\"Precision: {precision:.4f}\")\n",
        "print(f\"Recall: {recall:.4f}\")\n",
        "print(f\"F1-Score: {f1:.4f}\")"
      ]
    },
    {
      "cell_type": "markdown",
      "id": "bb6a252b",
      "metadata": {
        "id": "bb6a252b"
      },
      "source": [
        "# **Treinamento do Modelo BiLSTM com Pesos**\n",
        "\n",
        "No treinamento do modelo com pesos, o conjunto de dados original é utilizado, mantendo o desbalanceamento entre as classes \"Hate\" e \"Não Hate\". O modelo é treinado com todas as amostras disponíveis, e a função de perda pode ser ajustada com técnicas como weighted loss (perda ponderada) para garantir que a classe minoritária receba mais atenção durante o processo de aprendizado. Essa abordagem permite que o modelo aprenda com o conjunto completo de dados, sem eliminar amostras, o que pode ser vantajoso em alguns cenários. No entanto, o desbalanceamento das classes pode afetar a capacidade do modelo de generalizar corretamente para a classe minoritária, tornando importante a avaliação cuidadosa dos resultados obtidos."
      ]
    },
    {
      "cell_type": "code",
      "execution_count": 33,
      "id": "b709a3e0",
      "metadata": {
        "colab": {
          "base_uri": "https://localhost:8080/"
        },
        "id": "b709a3e0",
        "outputId": "119aa3c0-4ea8-4975-ff45-fb6c41023fe7"
      },
      "outputs": [
        {
          "output_type": "stream",
          "name": "stderr",
          "text": []
        },
        {
          "output_type": "stream",
          "name": "stdout",
          "text": [
            "Epoch 1, Train Loss: 0.5407\n",
            "Epoch 1, Val Loss: 0.6529\n",
            "Best model saved.\n"
          ]
        },
        {
          "output_type": "stream",
          "name": "stderr",
          "text": []
        },
        {
          "output_type": "stream",
          "name": "stdout",
          "text": [
            "Epoch 2, Train Loss: 0.4840\n",
            "Epoch 2, Val Loss: 0.6905\n"
          ]
        },
        {
          "output_type": "stream",
          "name": "stderr",
          "text": []
        },
        {
          "output_type": "stream",
          "name": "stdout",
          "text": [
            "Epoch 3, Train Loss: 0.4447\n",
            "Epoch 3, Val Loss: 0.7409\n"
          ]
        },
        {
          "output_type": "stream",
          "name": "stderr",
          "text": []
        },
        {
          "output_type": "stream",
          "name": "stdout",
          "text": [
            "Epoch 4, Train Loss: 0.4218\n",
            "Epoch 4, Val Loss: 0.7610\n",
            "Early stopping at epoch 4\n"
          ]
        }
      ],
      "source": [
        "device = torch.device(\"cuda\" if torch.cuda.is_available() else \"cpu\")\n",
        "model = BiLSTMClassifier(embedding_matrix, hidden_dim=128, output_dim=2).to(device)\n",
        "\n",
        "label_counts = Counter(train_labels)\n",
        "total_count = sum(label_counts.values())\n",
        "class_weights = [total_count / label_counts[i] for i in range(len(label_counts))]\n",
        "class_weights_tensor = torch.tensor(class_weights, dtype=torch.float).to(device)\n",
        "criterion = nn.CrossEntropyLoss(weight=class_weights_tensor)\n",
        "\n",
        "optimizer = optim.Adam(model.parameters(), lr=1e-3)\n",
        "\n",
        "best_val_loss = float('inf')\n",
        "patience = 3\n",
        "trigger_times = 0\n",
        "\n",
        "for epoch in range(20):\n",
        "    model.train()\n",
        "    running_loss = 0\n",
        "    loop = tqdm(train_loader, desc=f\"Epoch {epoch+1}\", leave=False)\n",
        "\n",
        "    for inputs, targets in loop:\n",
        "        inputs, targets = inputs.to(device), targets.to(device)\n",
        "        optimizer.zero_grad()\n",
        "        outputs = model(inputs)\n",
        "        loss = criterion(outputs, targets)\n",
        "        loss.backward()\n",
        "        optimizer.step()\n",
        "        running_loss += loss.item()\n",
        "        loop.set_postfix(loss=loss.item())\n",
        "\n",
        "    train_loss = running_loss / len(train_loader)\n",
        "    print(f\"Epoch {epoch+1}, Train Loss: {train_loss:.4f}\")\n",
        "\n",
        "    # Evaluate\n",
        "    model.eval()\n",
        "    val_loss = 0\n",
        "    with torch.no_grad():\n",
        "        for val_inputs_batch, val_targets_batch in val_loader:\n",
        "            val_inputs_batch, val_targets_batch = val_inputs_batch.to(device), val_targets_batch.to(device)\n",
        "            val_outputs = model(val_inputs_batch)\n",
        "            val_loss += criterion(val_outputs, val_targets_batch).item()\n",
        "\n",
        "    val_loss /= len(val_loader)\n",
        "    print(f\"Epoch {epoch+1}, Val Loss: {val_loss:.4f}\")\n",
        "\n",
        "    if val_loss < best_val_loss:\n",
        "        best_val_loss = val_loss\n",
        "        trigger_times = 0\n",
        "        torch.save(model.state_dict(), f'b_model.pth')\n",
        "        print(\"Best model saved.\")\n",
        "    else:\n",
        "        trigger_times += 1\n",
        "        if trigger_times >= patience:\n",
        "            print(f\"Early stopping at epoch {epoch+1}\")\n",
        "            break"
      ]
    },
    {
      "cell_type": "markdown",
      "id": "44febaee",
      "metadata": {
        "id": "44febaee"
      },
      "source": [
        "# **Teste e Matriz de Confusão**\n",
        "\n",
        "Após o treinamento, o modelo é avaliado utilizando um conjunto de dados de teste, que não foi visto durante o treinamento. Isso permite verificar como o modelo generaliza para novos dados e medir a sua capacidade de classificar corretamente os tweets em \"Hate\" e \"Não Hate\". A avaliação é feita com base em métricas de desempenho, como precisão, recall, F1-score e acurácia, que ajudam a entender a qualidade das previsões do modelo em relação à classe verdadeira de cada tweet.\n",
        "\n",
        "Também é gerada uma matriz de confusão, uma ferramenta importante para visualizar o desempenho do modelo, mostrando a quantidade de acertos e erros em suas previsões. Ela é uma tabela que compara as classes preditas pelo modelo com as classes reais. A matriz de confusão gera quatro valores principais:\n",
        "\n",
        "    True Positives (TP): Casos onde o modelo previu corretamente a classe \"Hate\".\n",
        "\n",
        "    True Negatives (TN): Casos onde o modelo previu corretamente a classe \"Não Hate\".\n",
        "\n",
        "    False Positives (FP): Casos onde o modelo previu erroneamente a classe \"Hate\" para tweets que eram \"Não Hate\".\n",
        "\n",
        "    False Negatives (FN): Casos onde o modelo previu erroneamente a classe \"Não Hate\" para tweets que eram \"Hate\"."
      ]
    },
    {
      "cell_type": "code",
      "execution_count": 34,
      "id": "d7d97f3c",
      "metadata": {
        "colab": {
          "base_uri": "https://localhost:8080/",
          "height": 576
        },
        "id": "d7d97f3c",
        "outputId": "0dba58ab-ce5c-4aca-a628-8b655cc82d2c"
      },
      "outputs": [
        {
          "output_type": "stream",
          "name": "stderr",
          "text": []
        },
        {
          "output_type": "display_data",
          "data": {
            "text/plain": [
              "<Figure size 640x480 with 2 Axes>"
            ],
            "image/png": "[encoded data removed]"
          },
          "metadata": {}
        },
        {
          "output_type": "stream",
          "name": "stdout",
          "text": [
            "\n",
            "📊 Binary Classification Metrics:\n",
            "Accuracy: 0.6363\n",
            "Precision: 0.6916\n",
            "Recall: 0.3221\n",
            "F1-Score: 0.4395\n"
          ]
        }
      ],
      "source": [
        "# Mapeamento das classes\n",
        "class_mapping = {0: \"Não Hate\", 1: \"Hate\"}\n",
        "\n",
        "all_targets = []\n",
        "all_predictions = []\n",
        "\n",
        "model.to(device)\n",
        "model.eval()\n",
        "\n",
        "with torch.no_grad():\n",
        "    loop = tqdm(test_loader, desc=\"Evaluating\", leave=False)\n",
        "    for inputs, targets in loop:\n",
        "        inputs, targets = inputs.to(device), targets.to(device)\n",
        "        outputs = model(inputs)\n",
        "        _, predicted = torch.max(outputs, 1)\n",
        "\n",
        "        all_targets.extend(targets.cpu().numpy())\n",
        "        all_predictions.extend(predicted.cpu().numpy())\n",
        "\n",
        "# Substituindo 0 por \"Não Hate\" e 1 por \"Hate\"\n",
        "all_targets_mapped = [class_mapping[target] for target in all_targets]\n",
        "all_predictions_mapped = [class_mapping[pred] for pred in all_predictions]\n",
        "\n",
        "# Matriz de Confusão\n",
        "cm = confusion_matrix(all_targets_mapped, all_predictions_mapped, labels=[\"Não Hate\", \"Hate\"])\n",
        "disp = ConfusionMatrixDisplay(confusion_matrix=cm, display_labels=[\"Não Hate\", \"Hate\"])\n",
        "disp.plot(cmap=plt.cm.Blues)\n",
        "plt.title(\"Matriz de Confusão\")\n",
        "plt.show()\n",
        "\n",
        "# Calculate Accuracy\n",
        "accuracy = accuracy_score(all_targets_mapped, all_predictions_mapped)\n",
        "\n",
        "# Calculate Precision, Recall, and F1-score using the binary average\n",
        "precision = precision_score(all_targets_mapped, all_predictions_mapped, average='binary', pos_label='Hate')\n",
        "recall = recall_score(all_targets_mapped, all_predictions_mapped, average='binary', pos_label='Hate')\n",
        "f1 = f1_score(all_targets_mapped, all_predictions_mapped, average='binary', pos_label='Hate')\n",
        "\n",
        "# Display the results\n",
        "print(\"\\n📊 Binary Classification Metrics:\")\n",
        "print(f\"Accuracy: {accuracy:.4f}\")\n",
        "print(f\"Precision: {precision:.4f}\")\n",
        "print(f\"Recall: {recall:.4f}\")\n",
        "print(f\"F1-Score: {f1:.4f}\")"
      ]
    },
    {
      "cell_type": "markdown",
      "source": [
        "# **Resultados**\n",
        "\n",
        "Foram avaliados dois métodos distintos para o treinamento de um classificador BiLSTM com embeddings Word2Vec na tarefa de detecção de discurso de ódio:\n",
        "1. Modelo com Balanceamento de Dados\n",
        "\n",
        "Neste método, a base de dados de treino foi balanceada para conter uma proporção equitativa entre as classes \"Hate\" e \"Não Hate\". Os principais resultados obtidos na base de teste foram:\n",
        "\n",
        "    Acurácia: 0.6303\n",
        "\n",
        "    Precisão: 0.5741\n",
        "\n",
        "    Recall: 0.6390\n",
        "\n",
        "    F1-Score: 0.6048\n",
        "\n",
        "A matriz de confusão mostra um bom equilíbrio entre verdadeiros positivos e verdadeiros negativos, indicando que o modelo conseguiu generalizar razoavelmente bem para ambas as classes.\n",
        "2. Modelo com Ponderação de Classes\n",
        "\n",
        "Neste segundo cenário, o modelo foi treinado utilizando a base original (desbalanceada), porém com penalidades diferenciadas para as classes por meio do parâmetro weight na função de perda. Os resultados na base de teste foram:\n",
        "\n",
        "    Acurácia: 0.6363\n",
        "\n",
        "    Precisão: 0.6916\n",
        "\n",
        "    Recall: 0.3221\n",
        "\n",
        "    F1-Score: 0.4395\n",
        "\n",
        "Observa-se que este modelo tende a priorizar mais a classe majoritária (\"Não Hate\"), resultando em um menor recall, porém com leves ganhos na precisão.\n",
        "Análise Comparativa\n",
        "\n",
        "Ambos os métodos apresentaram desempenhos competitivos, mas com trade-offs distintos:\n",
        "\n",
        "    O modelo com balanceamento de dados apresentou maior estabilidade geral nos resultados e menor viés para uma das classes.\n",
        "\n",
        "    Já o modelo com ponderação de classes destacou-se na precisão, porém teve seus resultados enviesados para a classe majoritária que era \"Não Hate\"."
      ],
      "metadata": {
        "id": "Z7cqIf7Ti0Ta"
      },
      "id": "Z7cqIf7Ti0Ta"
    }
  ],
  "metadata": {
    "accelerator": "GPU",
    "colab": {
      "gpuType": "T4",
      "provenance": []
    },
    "kernelspec": {
      "display_name": "NLP",
      "language": "python",
      "name": "python3"
    },
    "language_info": {
      "codemirror_mode": {
        "name": "ipython",
        "version": 3
      },
      "file_extension": ".py",
      "mimetype": "text/x-python",
      "name": "python",
      "nbconvert_exporter": "python",
      "pygments_lexer": "ipython3",
      "version": "3.12.9"
    }
  },
  "nbformat": 4,
  "nbformat_minor": 5
}